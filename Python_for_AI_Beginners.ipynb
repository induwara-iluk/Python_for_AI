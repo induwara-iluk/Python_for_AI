{
 "cells": [
  {
   "cell_type": "markdown",
   "id": "58ac2c4a",
   "metadata": {},
   "source": [
    "# 🐍 Python for AI/ML \n",
    "Welcome! This notebook will guide you through Python basics and important libraries like **NumPy**, **Pandas**, and **Matplotlib** for data handling and visualization.\n",
    "\n",
    "⏱ Duration: 2 hours\n"
   ]
  },
  {
   "cell_type": "markdown",
   "id": "8556542c",
   "metadata": {},
   "source": [
    "## 🧁 1. Getting Started with Python\n",
    "Python is a language that lets us talk to computers in a simple way.\n",
    "Let's start by saying hello!"
   ]
  },
  {
   "cell_type": "code",
   "execution_count": 1,
   "id": "61a11202",
   "metadata": {},
   "outputs": [
    {
     "name": "stdout",
     "output_type": "stream",
     "text": [
      "Hello, future AI heroes!\n"
     ]
    }
   ],
   "source": [
    "print(\"Hello, future AI heroes!\")"
   ]
  },
  {
   "cell_type": "markdown",
   "id": "12705a0e",
   "metadata": {},
   "source": [
    "## 📦 2. Variables and Data\n",
    "Variables are like boxes to store data. Let's create some simple ones."
   ]
  },
  {
   "cell_type": "code",
   "execution_count": 16,
   "id": "97696c77",
   "metadata": {},
   "outputs": [
    {
     "name": "stdout",
     "output_type": "stream",
     "text": [
      "Name: Alex\n",
      "Age: 16.5\n",
      "Married: False\n",
      "Siblings: 3\n"
     ]
    }
   ],
   "source": [
    "name = \"Alex\"\n",
    "age = 16.5\n",
    "married = False \n",
    "siblings = 3\n",
    "\n",
    "print(\"Name:\", name)\n",
    "print(\"Age:\", age)\n",
    "print(\"Married:\", married)\n",
    "print(\"Siblings:\", siblings)"
   ]
  },
  {
   "cell_type": "code",
   "execution_count": 17,
   "id": "d492376b",
   "metadata": {},
   "outputs": [
    {
     "name": "stdout",
     "output_type": "stream",
     "text": [
      "<class 'str'>\n",
      "<class 'float'>\n",
      "<class 'bool'>\n",
      "<class 'int'>\n"
     ]
    }
   ],
   "source": [
    "print(type(name)) \n",
    "print(type(age))\n",
    "print(type(married))\n",
    "print(type(siblings))"
   ]
  },
  {
   "cell_type": "markdown",
   "id": "90af52f3",
   "metadata": {},
   "source": [
    "## Getting Users Inputs \n",
    "we can get users input by input() function\n"
   ]
  },
  {
   "cell_type": "code",
   "execution_count": 23,
   "id": "f3acf2f1",
   "metadata": {},
   "outputs": [
    {
     "name": "stdout",
     "output_type": "stream",
     "text": [
      "Your name is induwara and you are 22 years old.\n"
     ]
    }
   ],
   "source": [
    "name = input(\"Enter your name: \")\n",
    "age = int(input(\"Enter your age: \"))\n",
    "print(\"Your name is\", name, \"and you are\", age, \"years old.\")"
   ]
  },
  {
   "cell_type": "markdown",
   "id": "0095a530",
   "metadata": {},
   "source": [
    "### Lets make our first Program\n",
    "\n",
    "Needs : \n",
    "    Ask for name <br> \n",
    "    Weight in KG <br> \n",
    "    Height in cm <br> \n",
    "    convert height to m <br> \n",
    "    calculate BMI <br> \n",
    "    Tell their BMI <br> \n",
    "    Give a nice little feedback on their BMI <br> "
   ]
  },
  {
   "cell_type": "code",
   "execution_count": null,
   "id": "7f45d470",
   "metadata": {},
   "outputs": [],
   "source": [
    "# Start here \n"
   ]
  },
  {
   "cell_type": "markdown",
   "id": "2097ff1b",
   "metadata": {},
   "source": [
    "# Conditional statements \n",
    "Simply if - else \n"
   ]
  },
  {
   "cell_type": "code",
   "execution_count": 29,
   "id": "0c9acd1e",
   "metadata": {},
   "outputs": [
    {
     "name": "stdout",
     "output_type": "stream",
     "text": [
      "You are a teenager.\n"
     ]
    }
   ],
   "source": [
    "age = 18\n",
    "\n",
    "if age < 10 :\n",
    "    print(\"You are a child.\")\n",
    "elif age < 20 :\n",
    "    print(\"You are a teenager.\")\n",
    "else :\n",
    "    print(\"You are an adult.\")\n",
    "\n",
    "# End here  "
   ]
  },
  {
   "cell_type": "markdown",
   "id": "93a73de9",
   "metadata": {},
   "source": [
    "## 🔁 3. Lists and Loops\n",
    "Lists can store multiple values. Loops let us do things repeatedly."
   ]
  },
  {
   "cell_type": "code",
   "execution_count": 19,
   "id": "96f1a645",
   "metadata": {},
   "outputs": [
    {
     "name": "stdout",
     "output_type": "stream",
     "text": [
      "I like apple\n",
      "I like banana\n",
      "I like cherry\n",
      "<class 'list'>\n"
     ]
    }
   ],
   "source": [
    "fruits = [\"apple\", \"banana\", \"cherry\"]\n",
    "for fruit in fruits:\n",
    "    print(\"I like\", fruit)\n",
    "\n",
    "print(type(fruits))"
   ]
  },
  {
   "cell_type": "markdown",
   "id": "3dc06af8",
   "metadata": {},
   "source": [
    "## 🧠 4. NumPy: Working with Arrays\n",
    "NumPy lets us do fast math with lists of numbers."
   ]
  },
  {
   "cell_type": "code",
   "execution_count": 36,
   "id": "f34fe2ec",
   "metadata": {},
   "outputs": [
    {
     "name": "stdout",
     "output_type": "stream",
     "text": [
      "Array: [1 2 3 4]\n",
      "Array + 10: [11 12 13 14]\n",
      "Mean: 2.5\n"
     ]
    }
   ],
   "source": [
    "import numpy as np\n",
    "arr = np.array([1, 2, 3, 4])\n",
    "print(\"Array:\", arr)\n",
    "print(\"Array + 10:\", arr + 10)\n",
    "print(\"Mean:\", arr.mean())"
   ]
  },
  {
   "cell_type": "markdown",
   "id": "bed9e633",
   "metadata": {},
   "source": [
    "## 🐼 5. Pandas: Working with Tables\n",
    "Pandas helps us read and explore tabular data like spreadsheets."
   ]
  },
  {
   "cell_type": "code",
   "execution_count": 37,
   "id": "10996bfe",
   "metadata": {},
   "outputs": [
    {
     "name": "stdout",
     "output_type": "stream",
     "text": [
      "      Name  Age  Score\n",
      "0    Alice   16     88\n",
      "1      Bob   17     92\n",
      "2  Charlie   16     85\n",
      "Average Score: 88.33333333333333\n"
     ]
    }
   ],
   "source": [
    "import pandas as pd\n",
    "# Sample table\n",
    "students = {\n",
    "    \"Name\": [\"Alice\", \"Bob\", \"Charlie\"],\n",
    "    \"Age\": [16, 17, 16],\n",
    "    \"Score\": [88, 92, 85]\n",
    "}\n",
    "df = pd.DataFrame(students)\n",
    "print(df)\n",
    "print(\"Average Score:\", df[\"Score\"].mean())"
   ]
  },
  {
   "cell_type": "markdown",
   "id": "8d32a3db",
   "metadata": {},
   "source": [
    "## 📊 6. Matplotlib: Plotting Graphs\n",
    "We use Matplotlib to create visual graphs."
   ]
  },
  {
   "cell_type": "code",
   "execution_count": 38,
   "id": "f3bd412a",
   "metadata": {},
   "outputs": [
    {
     "data": {
      "image/png": "[encoded data removed]",
      "text/plain": [
       "<Figure size 640x480 with 1 Axes>"
      ]
     },
     "metadata": {},
     "output_type": "display_data"
    }
   ],
   "source": [
    "import matplotlib.pyplot as plt\n",
    "plt.plot([1, 2, 3], [3, 5, 2])\n",
    "plt.title(\"Simple Line Graph\")\n",
    "plt.xlabel(\"X Axis\")\n",
    "plt.ylabel(\"Y Axis\")\n",
    "plt.show()"
   ]
  },
  {
   "cell_type": "markdown",
   "id": "0ddb02b7",
   "metadata": {},
   "source": [
    "## 🎯 7. Mini Project: Pet Dataset Analysis\n",
    "Let's analyze a small dataset about pets."
   ]
  },
  {
   "cell_type": "code",
   "execution_count": null,
   "id": "644215f2",
   "metadata": {},
   "outputs": [],
   "source": [
    "# Create sample dataset\n",
    "data = {\n",
    "    \"Pet\": [\"Max\", \"Luna\", \"Coco\", \"Bella\"],\n",
    "    \"Type\": [\"Dog\", \"Cat\", \"Dog\", \"Cat\"],\n",
    "    \"Age\": [5, 3, 7, 2]\n",
    "}\n",
    "df = pd.DataFrame(data)\n",
    "print(df)\n",
    "\n",
    "# Count pet types\n",
    "print(\"Type Count:\")\n",
    "print(df[\"Type\"].value_counts())\n",
    "\n",
    "# Plot histogram\n",
    "plt.hist(df[\"Age\"])\n",
    "plt.title(\"Pet Age Distribution\")\n",
    "plt.xlabel(\"Age\")\n",
    "plt.ylabel(\"Count\")\n",
    "plt.show()"
   ]
  },
  {
   "cell_type": "markdown",
   "id": "7d731a6d",
   "metadata": {},
   "source": [
    "## ✅ Wrap-Up\n",
    "Today, you learned:\n",
    "- Python basics: variables, lists, loops\n",
    "- NumPy for array math\n",
    "- Pandas for tables\n",
    "- Matplotlib for plotting\n",
    "\n",
    "🎓 You’re ready to start exploring AI & ML!\n",
    "\n",
    "Try learning: `Seaborn`, `Scikit-learn`, `TensorFlow`, or `ChatGPT API` next!"
   ]
  }
 ],
 "metadata": {
  "kernelspec": {
   "display_name": "Python 3",
   "language": "python",
   "name": "python3"
  },
  "language_info": {
   "codemirror_mode": {
    "name": "ipython",
    "version": 3
   },
   "file_extension": ".py",
   "mimetype": "text/x-python",
   "name": "python",
   "nbconvert_exporter": "python",
   "pygments_lexer": "ipython3",
   "version": "3.12.0"
  }
 },
 "nbformat": 4,
 "nbformat_minor": 5
}
