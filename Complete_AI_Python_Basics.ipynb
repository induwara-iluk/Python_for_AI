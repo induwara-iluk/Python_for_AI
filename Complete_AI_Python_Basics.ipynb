{
 "cells": [
  {
   "cell_type": "markdown",
   "id": "6501e002",
   "metadata": {},
   "source": [
    "# 🐍 Python for AI/ML: NumPy, Pandas, Matplotlib, Scikit-learn\n",
    "\n",
    "Welcome! In this notebook, you'll learn how to use Python libraries essential for AI and ML. These include:\n",
    "\n",
    "- **NumPy** for numerical operations\n",
    "- **Pandas** for data analysis\n",
    "- **Matplotlib** for data visualization\n",
    "- **Scikit-learn** for basic machine learning\n",
    "\n",
    "No prior programming experience is needed — let's start!"
   ]
  },
  {
   "cell_type": "markdown",
   "id": "f6d36a97",
   "metadata": {},
   "source": [
    "## 🧠 1. NumPy Basics\n",
    "NumPy lets us work with arrays and do mathematical operations efficiently."
   ]
  },
  {
   "cell_type": "code",
   "execution_count": 1,
   "id": "cb92b689",
   "metadata": {},
   "outputs": [
    {
     "name": "stdout",
     "output_type": "stream",
     "text": [
      "1D Array: [1 2 3]\n",
      "2D Array: [[1 2]\n",
      " [3 4]]\n",
      "Shape of a: (3,)\n",
      "Shape of b: (2, 2)\n"
     ]
    }
   ],
   "source": [
    "import numpy as np\n",
    "\n",
    "# Creating arrays\n",
    "a = np.array([1, 2, 3])\n",
    "b = np.array([[1, 2], [3, 4]])\n",
    "print(\"1D Array:\", a)\n",
    "print(\"2D Array:\", b)\n",
    "print(\"Shape of a:\", a.shape)\n",
    "print(\"Shape of b:\", b.shape)"
   ]
  },
  {
   "cell_type": "code",
   "execution_count": 2,
   "id": "22cb9a2e",
   "metadata": {},
   "outputs": [
    {
     "name": "stdout",
     "output_type": "stream",
     "text": [
      "a + 10: [11 12 13]\n",
      "a * 2: [2 4 6]\n",
      "Sum of b: 10\n",
      "Mean of b: 2.5\n"
     ]
    }
   ],
   "source": [
    "# Array math\n",
    "print(\"a + 10:\", a + 10)\n",
    "print(\"a * 2:\", a * 2)\n",
    "print(\"Sum of b:\", b.sum())\n",
    "print(\"Mean of b:\", b.mean())"
   ]
  },
  {
   "cell_type": "code",
   "execution_count": 3,
   "id": "15bdf4a3",
   "metadata": {},
   "outputs": [
    {
     "name": "stdout",
     "output_type": "stream",
     "text": [
      "Zeros: [[0. 0. 0.]\n",
      " [0. 0. 0.]]\n",
      "Ones: [[1. 1. 1.]\n",
      " [1. 1. 1.]]\n",
      "Range: [0 2 4 6 8]\n",
      "Random: [[7 9 1]\n",
      " [5 4 1]]\n"
     ]
    }
   ],
   "source": [
    "# Special arrays\n",
    "print(\"Zeros:\", np.zeros((2,3)))\n",
    "print(\"Ones:\", np.ones((2,3)))\n",
    "print(\"Range:\", np.arange(0, 10, 2))\n",
    "print(\"Random:\", np.random.randint(1, 10, size=(2,3)))"
   ]
  },
  {
   "cell_type": "markdown",
   "id": "290b4b92",
   "metadata": {},
   "source": [
    "## 📊 2. Pandas Basics\n",
    "Pandas helps us work with tables (like spreadsheets)."
   ]
  },
  {
   "cell_type": "code",
   "execution_count": null,
   "id": "ed34028d",
   "metadata": {},
   "outputs": [],
   "source": [
    "import pandas as pd\n",
    "\n",
    "# Creating a DataFrame\n",
    "data = {\n",
    "    \"Name\": [\"Alice\", \"Bob\", \"Charlie\"],\n",
    "    \"Age\": [16, 17, 16],\n",
    "    \"Score\": [85, 92, 78]\n",
    "}\n",
    "df = pd.DataFrame(data)\n",
    "print(df)"
   ]
  },
  {
   "cell_type": "code",
   "execution_count": null,
   "id": "705a60ab",
   "metadata": {},
   "outputs": [],
   "source": [
    "# Exploring the data\n",
    "print(df.head())\n",
    "print(df.describe())\n",
    "print(df.info())"
   ]
  },
  {
   "cell_type": "code",
   "execution_count": null,
   "id": "d27c1143",
   "metadata": {},
   "outputs": [],
   "source": [
    "# Filtering data\n",
    "print(df[df[\"Score\"] > 80])\n",
    "print(df[df[\"Age\"] == 16])"
   ]
  },
  {
   "cell_type": "code",
   "execution_count": null,
   "id": "7031ba81",
   "metadata": {},
   "outputs": [],
   "source": [
    "# Grouping and sorting\n",
    "print(df.groupby(\"Age\")[\"Score\"].mean())\n",
    "print(df.sort_values(\"Score\", ascending=False))"
   ]
  },
  {
   "cell_type": "markdown",
   "id": "414abf89",
   "metadata": {},
   "source": [
    "## 📈 3. Matplotlib Basics\n",
    "Matplotlib helps us draw charts and visualize data."
   ]
  },
  {
   "cell_type": "code",
   "execution_count": null,
   "id": "7f5e8404",
   "metadata": {},
   "outputs": [],
   "source": [
    "import matplotlib.pyplot as plt\n",
    "\n",
    "# Line plot\n",
    "x = [1, 2, 3, 4]\n",
    "y = [10, 20, 25, 30]\n",
    "plt.plot(x, y)\n",
    "plt.title(\"Line Plot Example\")\n",
    "plt.xlabel(\"X Axis\")\n",
    "plt.ylabel(\"Y Axis\")\n",
    "plt.show()"
   ]
  },
  {
   "cell_type": "code",
   "execution_count": null,
   "id": "7007c8a4",
   "metadata": {},
   "outputs": [],
   "source": [
    "# Bar chart\n",
    "plt.bar(df[\"Name\"], df[\"Score\"])\n",
    "plt.title(\"Student Scores\")\n",
    "plt.xlabel(\"Name\")\n",
    "plt.ylabel(\"Score\")\n",
    "plt.show()"
   ]
  },
  {
   "cell_type": "code",
   "execution_count": null,
   "id": "a89b2657",
   "metadata": {},
   "outputs": [],
   "source": [
    "# Scatter plot\n",
    "plt.scatter(df[\"Age\"], df[\"Score\"], color='red')\n",
    "plt.title(\"Age vs Score\")\n",
    "plt.xlabel(\"Age\")\n",
    "plt.ylabel(\"Score\")\n",
    "plt.show()"
   ]
  },
  {
   "cell_type": "code",
   "execution_count": null,
   "id": "3cd9f164",
   "metadata": {},
   "outputs": [],
   "source": [
    "# Histogram\n",
    "plt.hist(df[\"Score\"], bins=5)\n",
    "plt.title(\"Score Distribution\")\n",
    "plt.xlabel(\"Score\")\n",
    "plt.ylabel(\"Frequency\")\n",
    "plt.show()"
   ]
  },
  {
   "cell_type": "markdown",
   "id": "8f36ad56",
   "metadata": {},
   "source": [
    "## 🤖 4. Scikit-learn Basics\n",
    "Scikit-learn is a machine learning library. Let's try a simple linear regression model."
   ]
  },
  {
   "cell_type": "code",
   "execution_count": null,
   "id": "f77650ec",
   "metadata": {},
   "outputs": [],
   "source": [
    "from sklearn.linear_model import LinearRegression\n",
    "from sklearn.model_selection import train_test_split\n",
    "\n",
    "X = np.array([[1], [2], [3], [4], [5]])\n",
    "y = np.array([1.2, 1.9, 3.2, 3.8, 5.1])\n",
    "\n",
    "X_train, X_test, y_train, y_test = train_test_split(X, y, test_size=0.2, random_state=0)\n",
    "\n",
    "model = LinearRegression()\n",
    "model.fit(X_train, y_train)\n",
    "\n",
    "print(\"Slope:\", model.coef_)\n",
    "print(\"Intercept:\", model.intercept_)\n",
    "print(\"Prediction for 6:\", model.predict([[6]]))"
   ]
  },
  {
   "cell_type": "markdown",
   "id": "0fa6d02b",
   "metadata": {},
   "source": [
    "## 🧠 5. Mini Project: Iris Dataset\n",
    "We'll analyze the famous Iris flower dataset."
   ]
  },
  {
   "cell_type": "code",
   "execution_count": null,
   "id": "13e0b2dc",
   "metadata": {},
   "outputs": [],
   "source": [
    "iris = pd.read_csv(\"https://raw.githubusercontent.com/mwaskom/seaborn-data/master/iris.csv\")\n",
    "print(iris.head())\n",
    "print(iris.describe())"
   ]
  },
  {
   "cell_type": "code",
   "execution_count": null,
   "id": "b8768ef5",
   "metadata": {},
   "outputs": [],
   "source": [
    "# Plotting\n",
    "plt.scatter(iris[\"sepal_length\"], iris[\"sepal_width\"], c=iris[\"species\"].astype(\"category\").cat.codes)\n",
    "plt.title(\"Sepal Length vs Width\")\n",
    "plt.xlabel(\"Sepal Length\")\n",
    "plt.ylabel(\"Sepal Width\")\n",
    "plt.show()"
   ]
  },
  {
   "cell_type": "code",
   "execution_count": null,
   "id": "a21bbe54",
   "metadata": {},
   "outputs": [],
   "source": [
    "# Training a classifier\n",
    "from sklearn.neighbors import KNeighborsClassifier\n",
    "\n",
    "X = iris.drop(\"species\", axis=1)\n",
    "y = iris[\"species\"]\n",
    "\n",
    "X_train, X_test, y_train, y_test = train_test_split(X, y, test_size=0.2, random_state=1)\n",
    "\n",
    "knn = KNeighborsClassifier(n_neighbors=3)\n",
    "knn.fit(X_train, y_train)\n",
    "print(\"Accuracy:\", knn.score(X_test, y_test))"
   ]
  },
  {
   "cell_type": "markdown",
   "id": "ed4635c2",
   "metadata": {},
   "source": [
    "## ✅ Summary & Next Steps\n",
    "In this notebook, you learned:\n",
    "- NumPy: Arrays, math, reshaping\n",
    "- Pandas: DataFrames, filtering, grouping\n",
    "- Matplotlib: Line, bar, scatter, histogram\n",
    "- Scikit-learn: Linear Regression and Classification\n",
    "\n",
    "🎓 You're ready to explore more with Seaborn, TensorFlow, or build your own AI project!"
   ]
  }
 ],
 "metadata": {
  "kernelspec": {
   "display_name": "Python 3",
   "language": "python",
   "name": "python3"
  },
  "language_info": {
   "codemirror_mode": {
    "name": "ipython",
    "version": 3
   },
   "file_extension": ".py",
   "mimetype": "text/x-python",
   "name": "python",
   "nbconvert_exporter": "python",
   "pygments_lexer": "ipython3",
   "version": "3.12.0"
  }
 },
 "nbformat": 4,
 "nbformat_minor": 5
}
