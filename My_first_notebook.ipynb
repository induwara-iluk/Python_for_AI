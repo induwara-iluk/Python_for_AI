{
  "nbformat": 4,
  "nbformat_minor": 0,
  "metadata": {
    "colab": {
      "provenance": [],
      "authorship_tag": "ABX9TyO1RV6gSn7+JoTXYFJa/hMI",
      "include_colab_link": true
    },
    "kernelspec": {
      "name": "python3",
      "display_name": "Python 3"
    },
    "language_info": {
      "name": "python"
    }
  },
  "cells": [
    {
      "cell_type": "markdown",
      "metadata": {
        "id": "view-in-github",
        "colab_type": "text"
      },
      "source": [
        "<a href=\"https://colab.research.google.com/github/induwara-iluk/Python_for_AI/blob/main/My_first_notebook.ipynb\" target=\"_parent\"><img src=\"https://colab.research.google.com/assets/colab-badge.svg\" alt=\"Open In Colab\"/></a>"
      ]
    },
    {
      "cell_type": "markdown",
      "source": [
        "**AI course** / *Python Basics*"
      ],
      "metadata": {
        "id": "kwJIEZVtNuRP"
      }
    },
    {
      "cell_type": "code",
      "execution_count": 4,
      "metadata": {
        "colab": {
          "base_uri": "https://localhost:8080/"
        },
        "id": "ce_ykouWMFP7",
        "outputId": "3086695b-6267-47ce-9be6-9d9d873cf322"
      },
      "outputs": [
        {
          "output_type": "stream",
          "name": "stdout",
          "text": [
            "Hi lamai \n"
          ]
        }
      ],
      "source": [
        "print(\"Hi lamai \")"
      ]
    },
    {
      "cell_type": "markdown",
      "source": [
        "# Arithmatic operations"
      ],
      "metadata": {
        "id": "zq3918nwOxCk"
      }
    },
    {
      "cell_type": "code",
      "source": [
        "5+3"
      ],
      "metadata": {
        "colab": {
          "base_uri": "https://localhost:8080/"
        },
        "id": "gQk1HD8HOl-b",
        "outputId": "ff06cf9d-a174-4213-eb99-5cd04f79c888"
      },
      "execution_count": 5,
      "outputs": [
        {
          "output_type": "execute_result",
          "data": {
            "text/plain": [
              "8"
            ]
          },
          "metadata": {},
          "execution_count": 5
        }
      ]
    },
    {
      "cell_type": "code",
      "source": [
        "7-2"
      ],
      "metadata": {
        "colab": {
          "base_uri": "https://localhost:8080/"
        },
        "id": "qdzAjaBPOtkH",
        "outputId": "db14cdec-6756-4ecd-a5de-ff344cf08f06"
      },
      "execution_count": 8,
      "outputs": [
        {
          "output_type": "execute_result",
          "data": {
            "text/plain": [
              "5"
            ]
          },
          "metadata": {},
          "execution_count": 8
        }
      ]
    },
    {
      "cell_type": "code",
      "source": [
        "5*125"
      ],
      "metadata": {
        "colab": {
          "base_uri": "https://localhost:8080/"
        },
        "id": "i1FmpG0DO54f",
        "outputId": "dbf2bf8b-41b3-427c-b69a-b65dd1b41357"
      },
      "execution_count": 9,
      "outputs": [
        {
          "output_type": "execute_result",
          "data": {
            "text/plain": [
              "625"
            ]
          },
          "metadata": {},
          "execution_count": 9
        }
      ]
    },
    {
      "cell_type": "code",
      "source": [
        "2**3"
      ],
      "metadata": {
        "colab": {
          "base_uri": "https://localhost:8080/"
        },
        "id": "quQBa-pFPUCB",
        "outputId": "b9ffc786-b9c9-42b6-f223-dd1b52979011"
      },
      "execution_count": 10,
      "outputs": [
        {
          "output_type": "execute_result",
          "data": {
            "text/plain": [
              "8"
            ]
          },
          "metadata": {},
          "execution_count": 10
        }
      ]
    },
    {
      "cell_type": "code",
      "source": [
        "(22/7)*7*7"
      ],
      "metadata": {
        "colab": {
          "base_uri": "https://localhost:8080/"
        },
        "id": "R7agoASaPeMv",
        "outputId": "518bedcf-d9f6-4006-9572-41902e086d4a"
      },
      "execution_count": 22,
      "outputs": [
        {
          "output_type": "execute_result",
          "data": {
            "text/plain": [
              "154.0"
            ]
          },
          "metadata": {},
          "execution_count": 22
        }
      ]
    },
    {
      "cell_type": "code",
      "source": [
        "# Calculate the area of a circle using pi r **2\n",
        "\n",
        "22/7*14**2"
      ],
      "metadata": {
        "colab": {
          "base_uri": "https://localhost:8080/"
        },
        "id": "YuYOMNrwQDUH",
        "outputId": "632c0f64-4b98-480e-8c80-6cd54397f2c7"
      },
      "execution_count": 16,
      "outputs": [
        {
          "output_type": "execute_result",
          "data": {
            "text/plain": [
              "616.0"
            ]
          },
          "metadata": {},
          "execution_count": 16
        }
      ]
    },
    {
      "cell_type": "code",
      "source": [
        "# Calculate the area of a circle using pi r **2\n",
        "radius = 700\n",
        "area = 22/7*radius**2\n",
        "# Calculate the circumference of a circle using  2 pi r\n",
        "c = 2 * 22/7 * radius\n",
        "print (area , \"is the area of your circle \")\n",
        "print(c,\"is the circumfernece of your circle\")"
      ],
      "metadata": {
        "colab": {
          "base_uri": "https://localhost:8080/"
        },
        "id": "-42slGUOQlq8",
        "outputId": "4d2d3907-3c51-426a-8049-70713cb67e56"
      },
      "execution_count": 25,
      "outputs": [
        {
          "output_type": "stream",
          "name": "stdout",
          "text": [
            "1540000.0 is the area of your circle \n",
            "4400.0 is the circumfernece of your circle\n"
          ]
        }
      ]
    },
    {
      "cell_type": "code",
      "source": [
        "print(type(radius))\n",
        "print(type(area))"
      ],
      "metadata": {
        "colab": {
          "base_uri": "https://localhost:8080/"
        },
        "id": "RydIElNLSumB",
        "outputId": "256cce2e-b911-402b-c0fd-6a09ccbf7ab2"
      },
      "execution_count": 41,
      "outputs": [
        {
          "output_type": "stream",
          "name": "stdout",
          "text": [
            "<class 'int'>\n",
            "<class 'float'>\n"
          ]
        }
      ]
    },
    {
      "cell_type": "code",
      "source": [
        "name = \"Dewmina\"\n",
        "age = 23.5\n",
        "siblings =1\n",
        "married = True"
      ],
      "metadata": {
        "id": "wqpxBlZyTqlL"
      },
      "execution_count": 40,
      "outputs": []
    },
    {
      "cell_type": "code",
      "source": [
        "print(type(name))\n",
        "print(type(age))\n",
        "print(type(siblings))\n",
        "print(type(married))"
      ],
      "metadata": {
        "colab": {
          "base_uri": "https://localhost:8080/"
        },
        "id": "Jle18IJBUADT",
        "outputId": "e0828854-a0b8-49f8-90e4-f21a867c506d"
      },
      "execution_count": 35,
      "outputs": [
        {
          "output_type": "stream",
          "name": "stdout",
          "text": [
            "<class 'str'>\n",
            "<class 'float'>\n",
            "<class 'int'>\n",
            "<class 'bool'>\n"
          ]
        }
      ]
    },
    {
      "cell_type": "code",
      "source": [
        "print(type(radius))"
      ],
      "metadata": {
        "colab": {
          "base_uri": "https://localhost:8080/"
        },
        "id": "7GQf9XLXUM1F",
        "outputId": "b40095a1-c164-4045-88ec-f9fa65d399ee"
      },
      "execution_count": 31,
      "outputs": [
        {
          "output_type": "stream",
          "name": "stdout",
          "text": [
            "<class 'int'>\n"
          ]
        }
      ]
    },
    {
      "cell_type": "code",
      "source": [
        "r =5\n",
        "a = 2.3\n",
        "#float = decimal point numbers"
      ],
      "metadata": {
        "id": "4EIrr0vWVahQ"
      },
      "execution_count": 37,
      "outputs": []
    },
    {
      "cell_type": "code",
      "source": [
        "print(type(r))\n",
        "print(type (a))"
      ],
      "metadata": {
        "colab": {
          "base_uri": "https://localhost:8080/"
        },
        "id": "TLsGIZrKVaMU",
        "outputId": "9fd0647a-d731-4bc8-e3f5-7b21b5d25efd"
      },
      "execution_count": 39,
      "outputs": [
        {
          "output_type": "stream",
          "name": "stdout",
          "text": [
            "<class 'int'>\n",
            "<class 'float'>\n"
          ]
        }
      ]
    },
    {
      "cell_type": "markdown",
      "source": [
        "# **BMI calculator **\n",
        "\n",
        "\n",
        "bmi = mass / height**2"
      ],
      "metadata": {
        "id": "25pERAPrWP7z"
      }
    },
    {
      "cell_type": "code",
      "source": [
        "# programm to find BMI of the user\n",
        "\n",
        "mass = float(input(\"Enter your mass in kg : \"))\n",
        "height = float(input(\"Enter your height in m : \"))\n",
        "bmi = mass/height**2\n",
        "print(\"your BMI value is\",bmi)\n",
        "if (bmi >= 25 ):\n",
        "  print('You are a little bit over weight')\n",
        "elif (bmi > 18 ):\n",
        "  print('You are normal weight , keep it up ')\n",
        "else :\n",
        "\n",
        "  print('You are under weight ')\n",
        "\n"
      ],
      "metadata": {
        "colab": {
          "base_uri": "https://localhost:8080/"
        },
        "id": "ZdSp_Nf3WWQi",
        "outputId": "9e237211-364f-4656-9d61-62ada62828d8"
      },
      "execution_count": 67,
      "outputs": [
        {
          "output_type": "stream",
          "name": "stdout",
          "text": [
            "Enter your mass in kg : 60\n",
            "Enter your height in m : 1.5\n",
            "your BMI value is 26.666666666666668\n",
            "You are a little bit over weight\n"
          ]
        }
      ]
    },
    {
      "cell_type": "code",
      "source": [
        "bmi = 25"
      ],
      "metadata": {
        "id": "NEsnG83Bctoi"
      },
      "execution_count": 64,
      "outputs": []
    },
    {
      "cell_type": "code",
      "source": [
        "if (bmi >= 25 ):\n",
        "  print('You are a little bit over weight')\n",
        "elif (bmi > 18 ):\n",
        "  print('You are normal weight , keep it up ')\n",
        "else :\n",
        "  print('You are under weight ')\n"
      ],
      "metadata": {
        "colab": {
          "base_uri": "https://localhost:8080/"
        },
        "id": "vHVjp2bCbFmX",
        "outputId": "c68a1348-6222-44fe-8b93-883bf66893d7"
      },
      "execution_count": 66,
      "outputs": [
        {
          "output_type": "stream",
          "name": "stdout",
          "text": [
            "You are a little bit over weight\n"
          ]
        }
      ]
    },
    {
      "cell_type": "markdown",
      "source": [
        "Comparison operators\n"
      ],
      "metadata": {
        "id": "Pm9dU0Fbb1jA"
      }
    },
    {
      "cell_type": "code",
      "source": [
        "1 > 0"
      ],
      "metadata": {
        "colab": {
          "base_uri": "https://localhost:8080/"
        },
        "id": "rUAvzMHPb3X8",
        "outputId": "f154d717-ce8f-4d52-9304-948f2e5311db"
      },
      "execution_count": 52,
      "outputs": [
        {
          "output_type": "execute_result",
          "data": {
            "text/plain": [
              "True"
            ]
          },
          "metadata": {},
          "execution_count": 52
        }
      ]
    },
    {
      "cell_type": "code",
      "source": [
        "1< 2"
      ],
      "metadata": {
        "colab": {
          "base_uri": "https://localhost:8080/"
        },
        "id": "vdpApao0brmG",
        "outputId": "d51e1b70-5d46-48f4-eaaf-c363780942ab"
      },
      "execution_count": 53,
      "outputs": [
        {
          "output_type": "execute_result",
          "data": {
            "text/plain": [
              "True"
            ]
          },
          "metadata": {},
          "execution_count": 53
        }
      ]
    },
    {
      "cell_type": "code",
      "source": [
        "23>=24\n"
      ],
      "metadata": {
        "colab": {
          "base_uri": "https://localhost:8080/"
        },
        "id": "xPdS6IH3b8Mx",
        "outputId": "913de945-a7fb-470a-ba55-8ef5eb8222b7"
      },
      "execution_count": 57,
      "outputs": [
        {
          "output_type": "execute_result",
          "data": {
            "text/plain": [
              "False"
            ]
          },
          "metadata": {},
          "execution_count": 57
        }
      ]
    },
    {
      "cell_type": "code",
      "source": [
        "r = 7\n",
        "# declaration"
      ],
      "metadata": {
        "id": "dDCfVjymcMza"
      },
      "execution_count": 58,
      "outputs": []
    },
    {
      "cell_type": "code",
      "source": [
        "r == 6 # comaparison operator"
      ],
      "metadata": {
        "colab": {
          "base_uri": "https://localhost:8080/"
        },
        "id": "O0kNUrCrcObu",
        "outputId": "3618e56e-39d2-473c-93a6-ef3f6a5debb5"
      },
      "execution_count": 60,
      "outputs": [
        {
          "output_type": "execute_result",
          "data": {
            "text/plain": [
              "False"
            ]
          },
          "metadata": {},
          "execution_count": 60
        }
      ]
    },
    {
      "cell_type": "code",
      "source": [
        "if(bmi >25):\n",
        "  print()\n",
        "\n",
        "\n",
        "\n",
        "\n",
        "elif (bmi = 20 ):\n",
        "  pritn()\n",
        "\n",
        "\n",
        "\n",
        "\n",
        "\n",
        "\n",
        "\n",
        "else :\n",
        "\n",
        "\n",
        "\n",
        "\n",
        "\n",
        "# tab = 4 spaces"
      ],
      "metadata": {
        "id": "FKQJkNruewDe"
      },
      "execution_count": null,
      "outputs": []
    },
    {
      "cell_type": "code",
      "source": [
        "bmi_list =[20,21,19,20.6,16]\n",
        "print(bmi_list)\n",
        "bmi_list.append(27)\n",
        "print(bmi_list)"
      ],
      "metadata": {
        "colab": {
          "base_uri": "https://localhost:8080/"
        },
        "id": "rqUlNcObevlg",
        "outputId": "9028bd2e-8518-48ff-c0ac-0d703cc7f096"
      },
      "execution_count": 70,
      "outputs": [
        {
          "output_type": "stream",
          "name": "stdout",
          "text": [
            "[20, 21, 19, 20.6, 16]\n",
            "[20, 21, 19, 20.6, 16, 27]\n"
          ]
        }
      ]
    },
    {
      "cell_type": "code",
      "source": [
        "5 // 3 ## answer only\n",
        "5/3 # full division\n",
        "5%3 # remainder only"
      ],
      "metadata": {
        "colab": {
          "base_uri": "https://localhost:8080/"
        },
        "id": "idFVm8QofSUe",
        "outputId": "286cf6ff-0620-44de-aa06-f3a2308f71c0"
      },
      "execution_count": 73,
      "outputs": [
        {
          "output_type": "execute_result",
          "data": {
            "text/plain": [
              "2"
            ]
          },
          "metadata": {},
          "execution_count": 73
        }
      ]
    },
    {
      "cell_type": "code",
      "source": [
        "bmi_list[-1]"
      ],
      "metadata": {
        "colab": {
          "base_uri": "https://localhost:8080/"
        },
        "id": "iaJPy9VXgLmI",
        "outputId": "7981d99f-7a60-4a9c-9828-2440bae9f4a4"
      },
      "execution_count": 76,
      "outputs": [
        {
          "output_type": "execute_result",
          "data": {
            "text/plain": [
              "27"
            ]
          },
          "metadata": {},
          "execution_count": 76
        }
      ]
    },
    {
      "cell_type": "code",
      "source": [
        "for i in range(100):\n",
        "  print (\"I will not copy\")"
      ],
      "metadata": {
        "colab": {
          "base_uri": "https://localhost:8080/"
        },
        "id": "By2bc5Cdg0rS",
        "outputId": "5709a18c-418c-4cd7-8aa0-17b64aaf04ff"
      },
      "execution_count": 77,
      "outputs": [
        {
          "output_type": "stream",
          "name": "stdout",
          "text": [
            "I will not copy\n",
            "I will not copy\n",
            "I will not copy\n",
            "I will not copy\n",
            "I will not copy\n",
            "I will not copy\n",
            "I will not copy\n",
            "I will not copy\n",
            "I will not copy\n",
            "I will not copy\n",
            "I will not copy\n",
            "I will not copy\n",
            "I will not copy\n",
            "I will not copy\n",
            "I will not copy\n",
            "I will not copy\n",
            "I will not copy\n",
            "I will not copy\n",
            "I will not copy\n",
            "I will not copy\n",
            "I will not copy\n",
            "I will not copy\n",
            "I will not copy\n",
            "I will not copy\n",
            "I will not copy\n",
            "I will not copy\n",
            "I will not copy\n",
            "I will not copy\n",
            "I will not copy\n",
            "I will not copy\n",
            "I will not copy\n",
            "I will not copy\n",
            "I will not copy\n",
            "I will not copy\n",
            "I will not copy\n",
            "I will not copy\n",
            "I will not copy\n",
            "I will not copy\n",
            "I will not copy\n",
            "I will not copy\n",
            "I will not copy\n",
            "I will not copy\n",
            "I will not copy\n",
            "I will not copy\n",
            "I will not copy\n",
            "I will not copy\n",
            "I will not copy\n",
            "I will not copy\n",
            "I will not copy\n",
            "I will not copy\n",
            "I will not copy\n",
            "I will not copy\n",
            "I will not copy\n",
            "I will not copy\n",
            "I will not copy\n",
            "I will not copy\n",
            "I will not copy\n",
            "I will not copy\n",
            "I will not copy\n",
            "I will not copy\n",
            "I will not copy\n",
            "I will not copy\n",
            "I will not copy\n",
            "I will not copy\n",
            "I will not copy\n",
            "I will not copy\n",
            "I will not copy\n",
            "I will not copy\n",
            "I will not copy\n",
            "I will not copy\n",
            "I will not copy\n",
            "I will not copy\n",
            "I will not copy\n",
            "I will not copy\n",
            "I will not copy\n",
            "I will not copy\n",
            "I will not copy\n",
            "I will not copy\n",
            "I will not copy\n",
            "I will not copy\n",
            "I will not copy\n",
            "I will not copy\n",
            "I will not copy\n",
            "I will not copy\n",
            "I will not copy\n",
            "I will not copy\n",
            "I will not copy\n",
            "I will not copy\n",
            "I will not copy\n",
            "I will not copy\n",
            "I will not copy\n",
            "I will not copy\n",
            "I will not copy\n",
            "I will not copy\n",
            "I will not copy\n",
            "I will not copy\n",
            "I will not copy\n",
            "I will not copy\n",
            "I will not copy\n",
            "I will not copy\n"
          ]
        }
      ]
    },
    {
      "cell_type": "code",
      "source": [
        "for i in range(5):\n",
        "  print(i)"
      ],
      "metadata": {
        "colab": {
          "base_uri": "https://localhost:8080/"
        },
        "id": "NxftWYsvg-dH",
        "outputId": "6e474bf8-a376-4798-9e42-e0315c7a5438"
      },
      "execution_count": 79,
      "outputs": [
        {
          "output_type": "stream",
          "name": "stdout",
          "text": [
            "0\n",
            "1\n",
            "2\n",
            "3\n",
            "4\n"
          ]
        }
      ]
    },
    {
      "cell_type": "code",
      "source": [
        "\"&\"*5"
      ],
      "metadata": {
        "colab": {
          "base_uri": "https://localhost:8080/",
          "height": 35
        },
        "id": "btnIT875h0Lo",
        "outputId": "f8041a46-b075-422b-9276-33b6c931742c"
      },
      "execution_count": 80,
      "outputs": [
        {
          "output_type": "execute_result",
          "data": {
            "text/plain": [
              "'&&&&&'"
            ],
            "application/vnd.google.colaboratory.intrinsic+json": {
              "type": "string"
            }
          },
          "metadata": {},
          "execution_count": 80
        }
      ]
    },
    {
      "cell_type": "markdown",
      "source": [
        "baka\n",
        "baka baka\n",
        "baka baka baka\n",
        "baka"
      ],
      "metadata": {
        "id": "n4Tb84-Lh6b_"
      }
    },
    {
      "cell_type": "code",
      "source": [
        "for i in range(5):\n",
        "  print(\"backa \"*i )"
      ],
      "metadata": {
        "colab": {
          "base_uri": "https://localhost:8080/"
        },
        "id": "qh7NW_lEiDAZ",
        "outputId": "0d5143d1-e767-4866-ded6-936974fdfbf4"
      },
      "execution_count": 82,
      "outputs": [
        {
          "output_type": "stream",
          "name": "stdout",
          "text": [
            "\n",
            "backa \n",
            "backa backa \n",
            "backa backa backa \n",
            "backa backa backa backa \n"
          ]
        }
      ]
    },
    {
      "cell_type": "code",
      "source": [
        "for l in range(10):\n",
        "    print(\"baka X \",l,\"baka \"*l)"
      ],
      "metadata": {
        "colab": {
          "base_uri": "https://localhost:8080/"
        },
        "id": "iJW2_Uvyic75",
        "outputId": "25c7094c-1f79-40b9-a42e-22923c2da9a1"
      },
      "execution_count": 84,
      "outputs": [
        {
          "output_type": "stream",
          "name": "stdout",
          "text": [
            "baka X  0 \n",
            "baka X  1 baka \n",
            "baka X  2 baka baka \n",
            "baka X  3 baka baka baka \n",
            "baka X  4 baka baka baka baka \n",
            "baka X  5 baka baka baka baka baka \n",
            "baka X  6 baka baka baka baka baka baka \n",
            "baka X  7 baka baka baka baka baka baka baka \n",
            "baka X  8 baka baka baka baka baka baka baka baka \n",
            "baka X  9 baka baka baka baka baka baka baka baka baka \n"
          ]
        }
      ]
    },
    {
      "cell_type": "code",
      "source": [
        "age = 0\n",
        "while (age <21 ):\n",
        "  print ('your age is ', age , \"you cannot drink\")\n",
        "  age = age + 1\n",
        "  if(age == 18 ):\n",
        "    break\n",
        "else :\n",
        "  print ('your age is ', age , \"you can drink\")\n",
        ""
      ],
      "metadata": {
        "colab": {
          "base_uri": "https://localhost:8080/"
        },
        "id": "12PlIl71jGRE",
        "outputId": "a1f4a3fd-22d0-4f2f-8408-6ead62155022"
      },
      "execution_count": 88,
      "outputs": [
        {
          "output_type": "stream",
          "name": "stdout",
          "text": [
            "your age is  0 you cannot drink\n",
            "your age is  1 you cannot drink\n",
            "your age is  2 you cannot drink\n",
            "your age is  3 you cannot drink\n",
            "your age is  4 you cannot drink\n",
            "your age is  5 you cannot drink\n",
            "your age is  6 you cannot drink\n",
            "your age is  7 you cannot drink\n",
            "your age is  8 you cannot drink\n",
            "your age is  9 you cannot drink\n",
            "your age is  10 you cannot drink\n",
            "your age is  11 you cannot drink\n",
            "your age is  12 you cannot drink\n",
            "your age is  13 you cannot drink\n",
            "your age is  14 you cannot drink\n",
            "your age is  15 you cannot drink\n",
            "your age is  16 you cannot drink\n",
            "your age is  17 you cannot drink\n"
          ]
        }
      ]
    }
  ]
}